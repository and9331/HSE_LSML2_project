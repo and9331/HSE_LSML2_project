{
 "cells": [
  {
   "cell_type": "code",
   "execution_count": 15,
   "metadata": {},
   "outputs": [],
   "source": [
    "import pandas as pd\n",
    "\n",
    "# Load the dataset\n",
    "df = pd.read_csv('../../data/raw/customer_support_on_twitter.csv')\n",
    "\n",
    "# Define intent keywords\n",
    "intent_keywords = {\n",
    "       'billing_inquiry': ['bill', 'payment', 'invoice', 'charge'],\n",
    "       'technical_support': ['error', 'crash', 'issue', 'problem'],\n",
    "       'product_information': ['feature', 'specs', 'version', 'update'],\n",
    "       'account_management': ['login', 'password', 'account', 'profile']\n",
    "}\n",
    "\n",
    "def assign_intent(text):\n",
    "    text_lower = text.lower()\n",
    "    for intent, keywords in intent_keywords.items():\n",
    "        for word in keywords:\n",
    "            if word in text_lower:\n",
    "                return intent\n",
    "    return 'general_inquiry'\n",
    "\n",
    "# Filter inbound tweets\n",
    "inbound_df = df[df['inbound'] == True].copy()\n",
    "\n",
    "# Assign intents\n",
    "inbound_df['intent'] = inbound_df['text'].apply(assign_intent)\n",
    "\n",
    "# Save the labeled data\n",
    "inbound_df.to_csv('../../data/processed/labeled_customer_support.csv', index=False)"
   ]
  }
 ],
 "metadata": {
  "kernelspec": {
   "display_name": "base",
   "language": "python",
   "name": "python3"
  },
  "language_info": {
   "codemirror_mode": {
    "name": "ipython",
    "version": 3
   },
   "file_extension": ".py",
   "mimetype": "text/x-python",
   "name": "python",
   "nbconvert_exporter": "python",
   "pygments_lexer": "ipython3",
   "version": "3.11.5"
  }
 },
 "nbformat": 4,
 "nbformat_minor": 2
}
